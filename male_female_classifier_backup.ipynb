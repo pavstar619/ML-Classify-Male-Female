{
  "nbformat": 4,
  "nbformat_minor": 0,
  "metadata": {
    "anaconda-cloud": {},
    "kernelspec": {
      "display_name": "Python 3",
      "language": "python",
      "name": "python3"
    },
    "language_info": {
      "codemirror_mode": {
        "name": "ipython",
        "version": 3
      },
      "file_extension": ".py",
      "mimetype": "text/x-python",
      "name": "python",
      "nbconvert_exporter": "python",
      "pygments_lexer": "ipython3",
      "version": "3.6.1"
    },
    "colab": {
      "name": "male-female-classifier.ipynb",
      "provenance": [],
      "include_colab_link": true
    }
  },
  "cells": [
    {
      "cell_type": "markdown",
      "metadata": {
        "id": "view-in-github",
        "colab_type": "text"
      },
      "source": [
        "<a href=\"https://colab.research.google.com/github/pavstar619/ML-Classify-Male-Female/blob/master/male_female_classifier_backup.ipynb\" target=\"_parent\"><img src=\"https://colab.research.google.com/assets/colab-badge.svg\" alt=\"Open In Colab\"/></a>"
      ]
    },
    {
      "cell_type": "code",
      "metadata": {
        "id": "q5ZuzTZqZ1rF",
        "colab_type": "code",
        "colab": {
          "base_uri": "https://localhost:8080/",
          "height": 306
        },
        "outputId": "fa6b9159-983d-430f-87cd-9559b6addef1"
      },
      "source": [
        "#import enssential dependencies from sklearn\n",
        "from sklearn import ensemble\n",
        "from sklearn import svm\n",
        "import pandas as pd \n",
        "import random\n",
        "import numpy as np\n",
        "\n",
        "#[height, weight, shoe size]\n",
        "X = [[181,80,44], [177, 70, 43], [160, 60, 38], [154, 54,37], \n",
        "\t [166,65,40], [190,90,47], [175,64,39], [177,70,40], [159, 55,39], [171,75,42], [181,85,43], [220,115,53], [210,110,51], [230,120,55]]\n",
        "\n",
        "#gender 1 is MALE, 0 is FEMALE\n",
        "Y =  [1, 0, 0, 0, 1, 1,\n",
        "\t  1, 0,1, 0, 1, 2, 2, 2]\n",
        "\n",
        "\"\"\" df = pd.read_excel('test.xlsx', 'sheet1')\n",
        "X = df['Features'].values.tolist()\n",
        "Y = df['Gender'].values.tolist()\n",
        "print(X)\n",
        "print(Y) \"\"\"\n",
        "\n",
        "#create variables with classifiers\n",
        "randomForest = ensemble.RandomForestClassifier()\n",
        "svm = svm.SVC(gamma='auto')\n",
        "adaBoost = ensemble.AdaBoostClassifier()\n",
        "\n",
        "#fit them\n",
        "randomForest = randomForest.fit(X,Y)\n",
        "svm = svm.fit(X,Y)\n",
        "adaBoost = adaBoost.fit(X,Y)\n",
        "\n",
        "''' #Take inputs\n",
        "print('Write inputs cm, kg, size')\n",
        "a, b, c = input().split()\n",
        "\n",
        "#create prediction variables for results\n",
        "predictionForRandomForest = randomForest.predict([[a,b,c]])\n",
        "predictionForSVM = svm.predict([[a,b,c]])\n",
        "predictionForAdaBoost = adaBoost.predict([[a,b,c]])\n",
        "\n",
        "\n",
        "#print all the results\n",
        "print(\"2 for GIANT, 1 for MALE and 0 for FEMALE\")\n",
        "print(\"RandomForest: \", predictionForRandomForest)\n",
        "print(\"SVM: \", predictionForSVM)\n",
        "print(\"AdaBoost: \", predictionForAdaBoost)\n",
        " '''\n",
        "y_pred_randomForest = []\n",
        "y_pred_svm = []\n",
        "y_pred_adaBoost = []\n",
        "\n",
        "for x in range(14): \n",
        "\ta, b, c = random.randint(152,240), random.randint(40,90), random.randint(35,45)\n",
        "\tpredictionForRandomForest = randomForest.predict([[a,b,c]])\n",
        "\tpredictionForSVM = svm.predict([[a,b,c]])\n",
        "\tpredictionForAdaBoost = adaBoost.predict([[a,b,c]])\n",
        "\tprint(a,b,c)\n",
        " \n",
        "\ty_pred_randomForest.append(int(predictionForRandomForest))\n",
        "\ty_pred_svm.append(int(predictionForSVM))\n",
        "\ty_pred_adaBoost.append(int(predictionForAdaBoost))\n",
        "print(\"RandomForest: \", y_pred_randomForest)\n",
        "print(\"SVM: \", y_pred_svm)\n",
        "print(\"AdaBoost: \", y_pred_adaBoost)\n"
      ],
      "execution_count": 87,
      "outputs": [
        {
          "output_type": "stream",
          "text": [
            "216 58 42\n",
            "190 57 36\n",
            "200 73 43\n",
            "189 83 44\n",
            "228 51 42\n",
            "193 89 41\n",
            "199 51 40\n",
            "186 89 41\n",
            "219 84 38\n",
            "217 79 43\n",
            "206 66 36\n",
            "199 88 43\n",
            "215 59 38\n",
            "176 52 45\n",
            "RandomForest:  [0, 0, 0, 1, 0, 1, 1, 1, 1, 1, 0, 1, 0, 1]\n",
            "SVM:  [1, 1, 1, 1, 1, 1, 1, 1, 1, 1, 1, 1, 1, 1]\n",
            "AdaBoost:  [1, 1, 1, 1, 1, 1, 1, 1, 1, 1, 1, 1, 1, 0]\n"
          ],
          "name": "stdout"
        }
      ]
    },
    {
      "cell_type": "code",
      "metadata": {
        "id": "CLIGgkb6Z4gi",
        "colab_type": "code",
        "colab": {
          "base_uri": "https://localhost:8080/",
          "height": 170
        },
        "outputId": "2e4b8888-48cf-455c-c027-0a0fb35da66b"
      },
      "source": [
        "from sklearn.metrics import confusion_matrix, accuracy_score, precision_score, f1_score, recall_score\n",
        "''' y_true = [1, 0, 0, 0, 1, 1, 1, 0, 1, 0, 1, 2, 2, 2] #real values\n",
        "y_pred = [0, 1, 0, 1, 0, 1, 0, 2, 1, 0, 2, 1, 2, 1] #fake values '''\n",
        "cm_randomForest = confusion_matrix(Y,y_pred_randomForest, labels=[0,1,2])\n",
        "cm_svm = confusion_matrix(Y,y_pred_svm, labels=[0,1,2])\n",
        "cm_adaBoost = confusion_matrix(Y,y_pred_adaBoost, labels=[0,1,2])\n",
        "print(cm_randomForest)\n",
        "print(cm_svm)\n",
        "print(cm_adaBoost)"
      ],
      "execution_count": 93,
      "outputs": [
        {
          "output_type": "stream",
          "text": [
            "[[2 3 0]\n",
            " [3 3 0]\n",
            " [1 2 0]]\n",
            "[[0 5 0]\n",
            " [0 6 0]\n",
            " [0 3 0]]\n",
            "[[0 5 0]\n",
            " [0 6 0]\n",
            " [1 2 0]]\n"
          ],
          "name": "stdout"
        }
      ]
    },
    {
      "cell_type": "code",
      "metadata": {
        "id": "to1b88lZgt1U",
        "colab_type": "code",
        "colab": {
          "base_uri": "https://localhost:8080/",
          "height": 68
        },
        "outputId": "0bcc0ba2-1219-4f12-bf67-c23a906ec18f"
      },
      "source": [
        "acc_randomForest = accuracy_score(Y, y_pred_randomForest)\n",
        "acc_svm = accuracy_score(Y, y_pred_svm)\n",
        "acc_adaBoost = accuracy_score(Y, y_pred_adaBoost)\n",
        "print(acc_randomForest)\n",
        "print(acc_svm)\n",
        "print(acc_adaBoost)"
      ],
      "execution_count": 94,
      "outputs": [
        {
          "output_type": "stream",
          "text": [
            "0.35714285714285715\n",
            "0.42857142857142855\n",
            "0.42857142857142855\n"
          ],
          "name": "stdout"
        }
      ]
    },
    {
      "cell_type": "code",
      "metadata": {
        "id": "T0JyVN9Ag-r3",
        "colab_type": "code",
        "colab": {
          "base_uri": "https://localhost:8080/",
          "height": 122
        },
        "outputId": "4b51f04f-10d1-4346-83eb-4b92e4043a5e"
      },
      "source": [
        "prec_randomForest = precision_score(Y,y_pred_randomForest, average = 'macro')\n",
        "prec_svm = precision_score(Y,y_pred_svm, average = 'macro')\n",
        "prec_adaBoost = precision_score(Y,y_pred_adaBoost, average = 'macro')\n",
        "print(prec_randomForest)\n",
        "print(prec_svm)\n",
        "print(prec_adaBoost)"
      ],
      "execution_count": 95,
      "outputs": [
        {
          "output_type": "stream",
          "text": [
            "0.23611111111111108\n",
            "0.14285714285714285\n",
            "0.15384615384615385\n"
          ],
          "name": "stdout"
        },
        {
          "output_type": "stream",
          "text": [
            "/usr/local/lib/python3.6/dist-packages/sklearn/metrics/_classification.py:1272: UndefinedMetricWarning: Precision is ill-defined and being set to 0.0 in labels with no predicted samples. Use `zero_division` parameter to control this behavior.\n",
            "  _warn_prf(average, modifier, msg_start, len(result))\n"
          ],
          "name": "stderr"
        }
      ]
    },
    {
      "cell_type": "code",
      "metadata": {
        "id": "HQmCidjTh35I",
        "colab_type": "code",
        "colab": {
          "base_uri": "https://localhost:8080/",
          "height": 68
        },
        "outputId": "e43d03fe-cd22-40ad-a99a-2958c1177ba2"
      },
      "source": [
        "f1_randomForest = f1_score(Y,y_pred_randomForest, average = 'macro')\n",
        "f1_svm = f1_score(Y,y_pred_svm, average = 'macro')\n",
        "f1_adaBoost = f1_score(Y,y_pred_adaBoost, average = 'macro')\n",
        "print(f1_randomForest)\n",
        "print(f1_svm)\n",
        "print(f1_adaBoost)"
      ],
      "execution_count": 97,
      "outputs": [
        {
          "output_type": "stream",
          "text": [
            "0.26406926406926406\n",
            "0.19999999999999998\n",
            "0.21052631578947367\n"
          ],
          "name": "stdout"
        }
      ]
    },
    {
      "cell_type": "code",
      "metadata": {
        "id": "bPE9o_t4iIhj",
        "colab_type": "code",
        "colab": {
          "base_uri": "https://localhost:8080/",
          "height": 68
        },
        "outputId": "38a9b184-e2fe-4eea-c40f-08dbbd0ab628"
      },
      "source": [
        "recall_randomForest = recall_score(Y,y_pred_randomForest, average = 'macro')\n",
        "recall_svm = recall_score(Y,y_pred_svm, average = 'macro')\n",
        "recall_adaBoost = recall_score(Y,y_pred_adaBoost, average = 'macro')\n",
        "print(recall_randomForest)\n",
        "print(recall_svm)\n",
        "print(recall_adaBoost)\n"
      ],
      "execution_count": 99,
      "outputs": [
        {
          "output_type": "stream",
          "text": [
            "0.3\n",
            "0.3333333333333333\n",
            "0.3333333333333333\n"
          ],
          "name": "stdout"
        }
      ]
    },
    {
      "cell_type": "code",
      "metadata": {
        "id": "NvFgxZZJysd7",
        "colab_type": "code",
        "colab": {}
      },
      "source": [
        ""
      ],
      "execution_count": null,
      "outputs": []
    }
  ]
}