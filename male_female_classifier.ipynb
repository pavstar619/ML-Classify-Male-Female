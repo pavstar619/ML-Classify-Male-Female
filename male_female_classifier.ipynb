{
  "nbformat": 4,
  "nbformat_minor": 0,
  "metadata": {
    "anaconda-cloud": {},
    "kernelspec": {
      "display_name": "Python 3",
      "language": "python",
      "name": "python3"
    },
    "language_info": {
      "codemirror_mode": {
        "name": "ipython",
        "version": 3
      },
      "file_extension": ".py",
      "mimetype": "text/x-python",
      "name": "python",
      "nbconvert_exporter": "python",
      "pygments_lexer": "ipython3",
      "version": "3.6.1"
    },
    "colab": {
      "name": "male-female-classifier.ipynb",
      "provenance": [],
      "include_colab_link": true
    }
  },
  "cells": [
    {
      "cell_type": "markdown",
      "metadata": {
        "id": "view-in-github",
        "colab_type": "text"
      },
      "source": [
        "<a href=\"https://colab.research.google.com/github/pavstar619/ML-Classify-Male-Female/blob/master/male_female_classifier.ipynb\" target=\"_parent\"><img src=\"https://colab.research.google.com/assets/colab-badge.svg\" alt=\"Open In Colab\"/></a>"
      ]
    },
    {
      "cell_type": "code",
      "metadata": {
        "id": "q5ZuzTZqZ1rF",
        "colab_type": "code",
        "colab": {
          "base_uri": "https://localhost:8080/",
          "height": 306
        },
        "outputId": "fa6b9159-983d-430f-87cd-9559b6addef1"
      },
      "source": [
        "#import enssential dependencies from sklearn\n",
        "from sklearn import ensemble\n",
        "from sklearn import svm\n",
        "import pandas as pd \n",
        "import random\n",
        "import numpy as np\n",
        "\n",
        "#[height, weight, shoe size]\n",
        "X = [[181,80,44], [177, 70, 43], [160, 60, 38], [154, 54,37], \n",
        "\t [166,65,40], [190,90,47], [175,64,39], [177,70,40], [159, 55,39], [171,75,42], [181,85,43], [220,115,53], [210,110,51], [230,120,55]]\n",
        "\n",
        "#gender 1 is MALE, 0 is FEMALE\n",
        "Y =  [1, 0, 0, 0, 1, 1,\n",
        "\t  1, 0,1, 0, 1, 2, 2, 2]\n",
        "\n",
        "\"\"\" df = pd.read_excel('test.xlsx', 'sheet1')\n",
        "X = df['Features'].values.tolist()\n",
        "Y = df['Gender'].values.tolist()\n",
        "print(X)\n",
        "print(Y) \"\"\"\n",
        "\n",
        "#create variables with classifiers\n",
        "randomForest = ensemble.RandomForestClassifier()\n",
        "svm = svm.SVC(gamma='auto')\n",
        "adaBoost = ensemble.AdaBoostClassifier()\n",
        "\n",
        "#fit them\n",
        "randomForest = randomForest.fit(X,Y)\n",
        "svm = svm.fit(X,Y)\n",
        "adaBoost = adaBoost.fit(X,Y)\n",
        "\n",
        "''' #Take inputs\n",
        "print('Write inputs cm, kg, size')\n",
        "a, b, c = input().split()\n",
        "\n",
        "#create prediction variables for results\n",
        "predictionForRandomForest = randomForest.predict([[a,b,c]])\n",
        "predictionForSVM = svm.predict([[a,b,c]])\n",
        "predictionForAdaBoost = adaBoost.predict([[a,b,c]])\n",
        "\n",
        "\n",
        "#print all the results\n",
        "print(\"2 for GIANT, 1 for MALE and 0 for FEMALE\")\n",
        "print(\"RandomForest: \", predictionForRandomForest)\n",
        "print(\"SVM: \", predictionForSVM)\n",
        "print(\"AdaBoost: \", predictionForAdaBoost)\n",
        " '''\n",
        "y_pred_randomForest = []\n",
        "y_pred_svm = []\n",
        "y_pred_adaBoost = []\n",
        "\n",
        "for x in range(14): \n",
        "\ta, b, c = random.randint(152,240), random.randint(40,90), random.randint(35,45)\n",
        "\tpredictionForRandomForest = randomForest.predict([[a,b,c]])\n",
        "\tpredictionForSVM = svm.predict([[a,b,c]])\n",
        "\tpredictionForAdaBoost = adaBoost.predict([[a,b,c]])\n",
        "\tprint(a,b,c)\n",
        " \n",
        "\ty_pred_randomForest.append(int(predictionForRandomForest))\n",
        "\ty_pred_svm.append(int(predictionForSVM))\n",
        "\ty_pred_adaBoost.append(int(predictionForAdaBoost))\n",
        "print(\"RandomForest: \", y_pred_randomForest)\n",
        "print(\"SVM: \", y_pred_svm)\n",
        "print(\"AdaBoost: \", y_pred_adaBoost)\n"
      ],
      "execution_count": 87,
      "outputs": [
        {
          "output_type": "stream",
          "text": [
            "216 58 42\n",
            "190 57 36\n",
            "200 73 43\n",
            "189 83 44\n",
            "228 51 42\n",
            "193 89 41\n",
            "199 51 40\n",
            "186 89 41\n",
            "219 84 38\n",
            "217 79 43\n",
            "206 66 36\n",
            "199 88 43\n",
            "215 59 38\n",
            "176 52 45\n",
            "RandomForest:  [0, 0, 0, 1, 0, 1, 1, 1, 1, 1, 0, 1, 0, 1]\n",
            "SVM:  [1, 1, 1, 1, 1, 1, 1, 1, 1, 1, 1, 1, 1, 1]\n",
            "AdaBoost:  [1, 1, 1, 1, 1, 1, 1, 1, 1, 1, 1, 1, 1, 0]\n"
          ],
          "name": "stdout"
        }
      ]
    },
    {
      "cell_type": "code",
      "metadata": {
        "id": "CLIGgkb6Z4gi",
        "colab_type": "code",
        "colab": {
          "base_uri": "https://localhost:8080/",
          "height": 68
        },
        "outputId": "cdfdd6a8-2d42-4080-db47-974b5d5d0caf"
      },
      "source": [
        "from sklearn.metrics import confusion_matrix, accuracy_score, precision_score, f1_score, recall_score\n",
        "y_true = [1, 0, 0, 0, 1, 1, 1, 0, 1, 0, 1, 2, 2, 2] #real values\n",
        "y_pred = [0, 1, 0, 1, 0, 1, 0, 2, 1, 0, 2, 1, 2, 1] #fake values\n",
        "cm = confusion_matrix(y_true,y_pred, labels=[0,1,2])\n",
        "print(cm)"
      ],
      "execution_count": null,
      "outputs": [
        {
          "output_type": "stream",
          "text": [
            "[[2 2 1]\n",
            " [3 2 1]\n",
            " [0 2 1]]\n"
          ],
          "name": "stdout"
        }
      ]
    },
    {
      "cell_type": "code",
      "metadata": {
        "id": "to1b88lZgt1U",
        "colab_type": "code",
        "colab": {
          "base_uri": "https://localhost:8080/",
          "height": 34
        },
        "outputId": "4ee7c518-789a-4689-be75-8eded0997de7"
      },
      "source": [
        "acc = accuracy_score(y_true, y_pred)\n",
        "acc"
      ],
      "execution_count": null,
      "outputs": [
        {
          "output_type": "execute_result",
          "data": {
            "text/plain": [
              "0.35714285714285715"
            ]
          },
          "metadata": {
            "tags": []
          },
          "execution_count": 17
        }
      ]
    },
    {
      "cell_type": "code",
      "metadata": {
        "id": "T0JyVN9Ag-r3",
        "colab_type": "code",
        "colab": {
          "base_uri": "https://localhost:8080/",
          "height": 34
        },
        "outputId": "0831b695-e7f2-4480-db43-b8d9d8418220"
      },
      "source": [
        "prec = precision_score(y_true,y_pred, average = 'macro')\n",
        "prec"
      ],
      "execution_count": null,
      "outputs": [
        {
          "output_type": "execute_result",
          "data": {
            "text/plain": [
              "0.35555555555555557"
            ]
          },
          "metadata": {
            "tags": []
          },
          "execution_count": 27
        }
      ]
    },
    {
      "cell_type": "code",
      "metadata": {
        "id": "HQmCidjTh35I",
        "colab_type": "code",
        "colab": {
          "base_uri": "https://localhost:8080/",
          "height": 34
        },
        "outputId": "448465ac-e982-433f-e56c-4c7e270e9144"
      },
      "source": [
        "f1 = f1_score(y_true,y_pred, average = 'macro')\n",
        "f1"
      ],
      "execution_count": null,
      "outputs": [
        {
          "output_type": "execute_result",
          "data": {
            "text/plain": [
              "0.35555555555555557"
            ]
          },
          "metadata": {
            "tags": []
          },
          "execution_count": 28
        }
      ]
    },
    {
      "cell_type": "code",
      "metadata": {
        "id": "bPE9o_t4iIhj",
        "colab_type": "code",
        "colab": {
          "base_uri": "https://localhost:8080/",
          "height": 34
        },
        "outputId": "87c0f1b4-c1d2-43d1-fe97-9f01cbbd2810"
      },
      "source": [
        "recall = recall_score(y_true,y_pred, average = 'macro')\n",
        "recall\n"
      ],
      "execution_count": null,
      "outputs": [
        {
          "output_type": "execute_result",
          "data": {
            "text/plain": [
              "0.35555555555555557"
            ]
          },
          "metadata": {
            "tags": []
          },
          "execution_count": 29
        }
      ]
    },
    {
      "cell_type": "code",
      "metadata": {
        "id": "NvFgxZZJysd7",
        "colab_type": "code",
        "colab": {
          "base_uri": "https://localhost:8080/",
          "height": 255
        },
        "outputId": "381aae88-d4b0-4c94-ea2b-3242b3cf3357"
      },
      "source": [
        "import random\n",
        "for x in range(14): \n",
        "  a, b, c = random.randint(152,240), random.randint(40,90), random.randint(35,45)\n",
        "  print(a,b,c)"
      ],
      "execution_count": 12,
      "outputs": [
        {
          "output_type": "stream",
          "text": [
            "229 78 39\n",
            "224 50 36\n",
            "197 48 43\n",
            "204 82 43\n",
            "192 63 42\n",
            "200 85 42\n",
            "223 62 39\n",
            "175 78 38\n",
            "183 56 43\n",
            "176 83 42\n",
            "175 59 44\n",
            "229 79 42\n",
            "154 76 39\n",
            "204 73 36\n"
          ],
          "name": "stdout"
        }
      ]
    }
  ]
}