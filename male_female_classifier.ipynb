{
  "nbformat": 4,
  "nbformat_minor": 0,
  "metadata": {
    "anaconda-cloud": {},
    "kernelspec": {
      "display_name": "Python 3",
      "language": "python",
      "name": "python3"
    },
    "language_info": {
      "codemirror_mode": {
        "name": "ipython",
        "version": 3
      },
      "file_extension": ".py",
      "mimetype": "text/x-python",
      "name": "python",
      "nbconvert_exporter": "python",
      "pygments_lexer": "ipython3",
      "version": "3.6.1"
    },
    "colab": {
      "name": "male-female-classifier.ipynb",
      "provenance": [],
      "include_colab_link": true
    }
  },
  "cells": [
    {
      "cell_type": "markdown",
      "metadata": {
        "id": "view-in-github",
        "colab_type": "text"
      },
      "source": [
        "<a href=\"https://colab.research.google.com/github/pavstar619/ML-Classify-Male-Female/blob/master/male_female_classifier.ipynb\" target=\"_parent\"><img src=\"https://colab.research.google.com/assets/colab-badge.svg\" alt=\"Open In Colab\"/></a>"
      ]
    },
    {
      "cell_type": "code",
      "metadata": {
        "id": "q5ZuzTZqZ1rF",
        "colab_type": "code",
        "colab": {
          "base_uri": "https://localhost:8080/",
          "height": 357
        },
        "outputId": "7a206aba-1cb9-480d-8462-2f82cf3d3822"
      },
      "source": [
        "#import enssential dependencies from sklearn\n",
        "from sklearn import ensemble\n",
        "from sklearn import svm\n",
        "import pandas as pd \n",
        "import random\n",
        "import numpy as np\n",
        "\n",
        "#[height, weight, shoe size]\n",
        "X = [[181,80,44], [177, 70, 43], [160, 60, 38], [154, 54,37], \n",
        "\t [166,65,40], [190,90,47], [175,64,39], [177,70,40], [159, 55,39], [171,75,42], [181,85,43], [220,115,53], [210,110,51], [230,120,55]]\n",
        "\n",
        "#gender 1 is MALE, 0 is FEMALE\n",
        "Y =  [1, 0, 0, 0, 1, 1,\n",
        "\t  1, 0,1, 0, 1, 2, 2, 2]\n",
        "\n",
        "\"\"\" df = pd.read_excel('test.xlsx', 'sheet1')\n",
        "X = df['Features'].values.tolist()\n",
        "Y = df['Gender'].values.tolist()\n",
        "print(X)\n",
        "print(Y) \"\"\"\n",
        "\n",
        "#create variables with classifiers\n",
        "randomForest = ensemble.RandomForestClassifier()\n",
        "svm = svm.SVC(gamma='auto')\n",
        "adaBoost = ensemble.AdaBoostClassifier()\n",
        "\n",
        "#fit them\n",
        "randomForest = randomForest.fit(X,Y)\n",
        "svm = svm.fit(X,Y)\n",
        "adaBoost = adaBoost.fit(X,Y)\n",
        "\n",
        "''' #Take inputs\n",
        "print('Write inputs cm, kg, size')\n",
        "a, b, c = input().split()\n",
        "\n",
        "#create prediction variables for results\n",
        "predictionForRandomForest = randomForest.predict([[a,b,c]])\n",
        "predictionForSVM = svm.predict([[a,b,c]])\n",
        "predictionForAdaBoost = adaBoost.predict([[a,b,c]])\n",
        "\n",
        "\n",
        "#print all the results\n",
        "print(\"2 for GIANT, 1 for MALE and 0 for FEMALE\")\n",
        "print(\"RandomForest: \", predictionForRandomForest)\n",
        "print(\"SVM: \", predictionForSVM)\n",
        "print(\"AdaBoost: \", predictionForAdaBoost)\n",
        " '''\n",
        "y_pred_randomForest = []\n",
        "y_pred_svm = []\n",
        "y_pred_adaBoost = []\n",
        "height = []\n",
        "weight = []\n",
        "shoesize = []\n",
        "\n",
        "for x in range(14): \n",
        "\ta, b, c = random.randint(152,240), random.randint(40,90), random.randint(35,45)\n",
        "\tpredictionForRandomForest = randomForest.predict([[a,b,c]])\n",
        "\tpredictionForSVM = svm.predict([[a,b,c]])\n",
        "\tpredictionForAdaBoost = adaBoost.predict([[a,b,c]])\n",
        "\tprint(a,b,c)\n",
        "\t''' height.append(a)\n",
        "\tweight.append(b)\n",
        "\tshoesize.append(c) '''\n",
        " \n",
        "\ty_pred_randomForest.append(int(predictionForRandomForest))\n",
        "\ty_pred_svm.append(int(predictionForSVM))\n",
        "\ty_pred_adaBoost.append(int(predictionForAdaBoost))\n",
        "print(\"RandomForest: \", y_pred_randomForest)\n",
        "print(\"SVM: \", y_pred_svm)\n",
        "print(\"AdaBoost: \", y_pred_adaBoost)\n"
      ],
      "execution_count": 21,
      "outputs": [
        {
          "output_type": "stream",
          "text": [
            "180 71 45\n",
            "220 79 38\n",
            "181 78 36\n",
            "198 75 39\n",
            "190 89 38\n",
            "182 45 38\n",
            "200 55 36\n",
            "166 68 37\n",
            "171 66 36\n",
            "177 78 45\n",
            "239 53 36\n",
            "158 43 40\n",
            "199 69 38\n",
            "176 81 44\n",
            "RandomForest:  [1, 1, 1, 1, 1, 0, 1, 0, 0, 1, 0, 1, 0, 1]\n",
            "SVM:  [1, 1, 1, 1, 1, 1, 1, 1, 1, 1, 1, 1, 1, 1]\n",
            "AdaBoost:  [1, 1, 1, 1, 1, 1, 1, 0, 0, 1, 1, 0, 1, 1]\n",
            "[180, 220, 181, 198, 190, 182, 200, 166, 171, 177, 239, 158, 199, 176]\n",
            "[71, 79, 78, 75, 89, 45, 55, 68, 66, 78, 53, 43, 69, 81]\n",
            "[45, 38, 36, 39, 38, 38, 36, 37, 36, 45, 36, 40, 38, 44]\n"
          ],
          "name": "stdout"
        }
      ]
    },
    {
      "cell_type": "code",
      "metadata": {
        "id": "CLIGgkb6Z4gi",
        "colab_type": "code",
        "colab": {
          "base_uri": "https://localhost:8080/",
          "height": 170
        },
        "outputId": "b54958c5-9f47-4263-f783-5199ab6b5c47"
      },
      "source": [
        "from sklearn.metrics import confusion_matrix, accuracy_score, precision_score, f1_score, recall_score\n",
        "''' y_true = [1, 0, 0, 0, 1, 1, 1, 0, 1, 0, 1, 2, 2, 2] #real values\n",
        "y_pred = [0, 1, 0, 1, 0, 1, 0, 2, 1, 0, 2, 1, 2, 1] #fake values '''\n",
        "cm_randomForest = confusion_matrix(Y,y_pred_randomForest, labels=[0,1,2])\n",
        "cm_svm = confusion_matrix(Y,y_pred_svm, labels=[0,1,2])\n",
        "cm_adaBoost = confusion_matrix(Y,y_pred_adaBoost, labels=[0,1,2])\n",
        "print(cm_randomForest)\n",
        "print(cm_svm)\n",
        "print(cm_adaBoost)"
      ],
      "execution_count": 2,
      "outputs": [
        {
          "output_type": "stream",
          "text": [
            "[[3 2 0]\n",
            " [1 5 0]\n",
            " [0 3 0]]\n",
            "[[0 5 0]\n",
            " [0 6 0]\n",
            " [0 3 0]]\n",
            "[[2 3 0]\n",
            " [1 5 0]\n",
            " [1 2 0]]\n"
          ],
          "name": "stdout"
        }
      ]
    },
    {
      "cell_type": "code",
      "metadata": {
        "id": "to1b88lZgt1U",
        "colab_type": "code",
        "colab": {
          "base_uri": "https://localhost:8080/",
          "height": 68
        },
        "outputId": "cf5643ce-3cca-4a2e-8c7c-8b71ebbba4d3"
      },
      "source": [
        "acc_randomForest = accuracy_score(Y, y_pred_randomForest)\n",
        "acc_svm = accuracy_score(Y, y_pred_svm)\n",
        "acc_adaBoost = accuracy_score(Y, y_pred_adaBoost)\n",
        "print(acc_randomForest)\n",
        "print(acc_svm)\n",
        "print(acc_adaBoost)"
      ],
      "execution_count": 3,
      "outputs": [
        {
          "output_type": "stream",
          "text": [
            "0.5714285714285714\n",
            "0.42857142857142855\n",
            "0.5\n"
          ],
          "name": "stdout"
        }
      ]
    },
    {
      "cell_type": "code",
      "metadata": {
        "id": "T0JyVN9Ag-r3",
        "colab_type": "code",
        "colab": {
          "base_uri": "https://localhost:8080/",
          "height": 122
        },
        "outputId": "55f08ef1-a2e6-4ae0-c0da-80b22f27bf51"
      },
      "source": [
        "prec_randomForest = precision_score(Y,y_pred_randomForest, average = 'macro')\n",
        "prec_svm = precision_score(Y,y_pred_svm, average = 'macro')\n",
        "prec_adaBoost = precision_score(Y,y_pred_adaBoost, average = 'macro')\n",
        "print(prec_randomForest)\n",
        "print(prec_svm)\n",
        "print(prec_adaBoost)"
      ],
      "execution_count": 4,
      "outputs": [
        {
          "output_type": "stream",
          "text": [
            "0.4166666666666667\n",
            "0.14285714285714285\n",
            "0.3333333333333333\n"
          ],
          "name": "stdout"
        },
        {
          "output_type": "stream",
          "text": [
            "/usr/local/lib/python3.6/dist-packages/sklearn/metrics/_classification.py:1272: UndefinedMetricWarning: Precision is ill-defined and being set to 0.0 in labels with no predicted samples. Use `zero_division` parameter to control this behavior.\n",
            "  _warn_prf(average, modifier, msg_start, len(result))\n"
          ],
          "name": "stderr"
        }
      ]
    },
    {
      "cell_type": "code",
      "metadata": {
        "id": "HQmCidjTh35I",
        "colab_type": "code",
        "colab": {
          "base_uri": "https://localhost:8080/",
          "height": 68
        },
        "outputId": "86c11766-b32b-473d-ad09-a283e32abe8c"
      },
      "source": [
        "f1_randomForest = f1_score(Y,y_pred_randomForest, average = 'macro')\n",
        "f1_svm = f1_score(Y,y_pred_svm, average = 'macro')\n",
        "f1_adaBoost = f1_score(Y,y_pred_adaBoost, average = 'macro')\n",
        "print(f1_randomForest)\n",
        "print(f1_svm)\n",
        "print(f1_adaBoost)"
      ],
      "execution_count": 5,
      "outputs": [
        {
          "output_type": "stream",
          "text": [
            "0.4305555555555555\n",
            "0.19999999999999998\n",
            "0.35648148148148145\n"
          ],
          "name": "stdout"
        }
      ]
    },
    {
      "cell_type": "code",
      "metadata": {
        "id": "bPE9o_t4iIhj",
        "colab_type": "code",
        "colab": {
          "base_uri": "https://localhost:8080/",
          "height": 68
        },
        "outputId": "b37ff338-19e7-453b-af7d-eed317125466"
      },
      "source": [
        "recall_randomForest = recall_score(Y,y_pred_randomForest, average = 'macro')\n",
        "recall_svm = recall_score(Y,y_pred_svm, average = 'macro')\n",
        "recall_adaBoost = recall_score(Y,y_pred_adaBoost, average = 'macro')\n",
        "print(recall_randomForest)\n",
        "print(recall_svm)\n",
        "print(recall_adaBoost)\n"
      ],
      "execution_count": 6,
      "outputs": [
        {
          "output_type": "stream",
          "text": [
            "0.4777777777777778\n",
            "0.3333333333333333\n",
            "0.41111111111111115\n"
          ],
          "name": "stdout"
        }
      ]
    },
    {
      "cell_type": "code",
      "metadata": {
        "id": "0ydKUoCM8Sv8",
        "colab_type": "code",
        "colab": {
          "base_uri": "https://localhost:8080/",
          "height": 483
        },
        "outputId": "32f9374e-cdad-416a-eab6-9b7b6b1f16d1"
      },
      "source": [
        "# Make a dataset\n",
        "''' data = {'Height' : height, 'Weight' : weight, 'Shoesize' : shoesize}\n",
        "df = pd.DataFrame(data , columns= ['Height', 'Weight', 'Shoesize'])\n",
        "df '''"
      ],
      "execution_count": 25,
      "outputs": [
        {
          "output_type": "execute_result",
          "data": {
            "text/html": [
              "<div>\n",
              "<style scoped>\n",
              "    .dataframe tbody tr th:only-of-type {\n",
              "        vertical-align: middle;\n",
              "    }\n",
              "\n",
              "    .dataframe tbody tr th {\n",
              "        vertical-align: top;\n",
              "    }\n",
              "\n",
              "    .dataframe thead th {\n",
              "        text-align: right;\n",
              "    }\n",
              "</style>\n",
              "<table border=\"1\" class=\"dataframe\">\n",
              "  <thead>\n",
              "    <tr style=\"text-align: right;\">\n",
              "      <th></th>\n",
              "      <th>Height</th>\n",
              "      <th>Weight</th>\n",
              "      <th>Shoesize</th>\n",
              "    </tr>\n",
              "  </thead>\n",
              "  <tbody>\n",
              "    <tr>\n",
              "      <th>0</th>\n",
              "      <td>180</td>\n",
              "      <td>71</td>\n",
              "      <td>45</td>\n",
              "    </tr>\n",
              "    <tr>\n",
              "      <th>1</th>\n",
              "      <td>220</td>\n",
              "      <td>79</td>\n",
              "      <td>38</td>\n",
              "    </tr>\n",
              "    <tr>\n",
              "      <th>2</th>\n",
              "      <td>181</td>\n",
              "      <td>78</td>\n",
              "      <td>36</td>\n",
              "    </tr>\n",
              "    <tr>\n",
              "      <th>3</th>\n",
              "      <td>198</td>\n",
              "      <td>75</td>\n",
              "      <td>39</td>\n",
              "    </tr>\n",
              "    <tr>\n",
              "      <th>4</th>\n",
              "      <td>190</td>\n",
              "      <td>89</td>\n",
              "      <td>38</td>\n",
              "    </tr>\n",
              "    <tr>\n",
              "      <th>5</th>\n",
              "      <td>182</td>\n",
              "      <td>45</td>\n",
              "      <td>38</td>\n",
              "    </tr>\n",
              "    <tr>\n",
              "      <th>6</th>\n",
              "      <td>200</td>\n",
              "      <td>55</td>\n",
              "      <td>36</td>\n",
              "    </tr>\n",
              "    <tr>\n",
              "      <th>7</th>\n",
              "      <td>166</td>\n",
              "      <td>68</td>\n",
              "      <td>37</td>\n",
              "    </tr>\n",
              "    <tr>\n",
              "      <th>8</th>\n",
              "      <td>171</td>\n",
              "      <td>66</td>\n",
              "      <td>36</td>\n",
              "    </tr>\n",
              "    <tr>\n",
              "      <th>9</th>\n",
              "      <td>177</td>\n",
              "      <td>78</td>\n",
              "      <td>45</td>\n",
              "    </tr>\n",
              "    <tr>\n",
              "      <th>10</th>\n",
              "      <td>239</td>\n",
              "      <td>53</td>\n",
              "      <td>36</td>\n",
              "    </tr>\n",
              "    <tr>\n",
              "      <th>11</th>\n",
              "      <td>158</td>\n",
              "      <td>43</td>\n",
              "      <td>40</td>\n",
              "    </tr>\n",
              "    <tr>\n",
              "      <th>12</th>\n",
              "      <td>199</td>\n",
              "      <td>69</td>\n",
              "      <td>38</td>\n",
              "    </tr>\n",
              "    <tr>\n",
              "      <th>13</th>\n",
              "      <td>176</td>\n",
              "      <td>81</td>\n",
              "      <td>44</td>\n",
              "    </tr>\n",
              "  </tbody>\n",
              "</table>\n",
              "</div>"
            ],
            "text/plain": [
              "    Height  Weight  Shoesize\n",
              "0      180      71        45\n",
              "1      220      79        38\n",
              "2      181      78        36\n",
              "3      198      75        39\n",
              "4      190      89        38\n",
              "5      182      45        38\n",
              "6      200      55        36\n",
              "7      166      68        37\n",
              "8      171      66        36\n",
              "9      177      78        45\n",
              "10     239      53        36\n",
              "11     158      43        40\n",
              "12     199      69        38\n",
              "13     176      81        44"
            ]
          },
          "metadata": {
            "tags": []
          },
          "execution_count": 25
        }
      ]
    },
    {
      "cell_type": "code",
      "metadata": {
        "id": "1vGEFG1RAWfs",
        "colab_type": "code",
        "colab": {
          "base_uri": "https://localhost:8080/",
          "height": 17
        },
        "outputId": "e018b541-f36c-4e01-ff78-f0bbd27053c9"
      },
      "source": [
        "#FOR DOWNLOADING CSV\n",
        "''' from google.colab import files\n",
        "df.to_csv('malefemale.csv') \n",
        "files.download('malefemale.csv') '''"
      ],
      "execution_count": 33,
      "outputs": [
        {
          "output_type": "display_data",
          "data": {
            "application/javascript": [
              "\n",
              "    async function download(id, filename, size) {\n",
              "      if (!google.colab.kernel.accessAllowed) {\n",
              "        return;\n",
              "      }\n",
              "      const div = document.createElement('div');\n",
              "      const label = document.createElement('label');\n",
              "      label.textContent = `Downloading \"${filename}\": `;\n",
              "      div.appendChild(label);\n",
              "      const progress = document.createElement('progress');\n",
              "      progress.max = size;\n",
              "      div.appendChild(progress);\n",
              "      document.body.appendChild(div);\n",
              "\n",
              "      const buffers = [];\n",
              "      let downloaded = 0;\n",
              "\n",
              "      const channel = await google.colab.kernel.comms.open(id);\n",
              "      // Send a message to notify the kernel that we're ready.\n",
              "      channel.send({})\n",
              "\n",
              "      for await (const message of channel.messages) {\n",
              "        // Send a message to notify the kernel that we're ready.\n",
              "        channel.send({})\n",
              "        if (message.buffers) {\n",
              "          for (const buffer of message.buffers) {\n",
              "            buffers.push(buffer);\n",
              "            downloaded += buffer.byteLength;\n",
              "            progress.value = downloaded;\n",
              "          }\n",
              "        }\n",
              "      }\n",
              "      const blob = new Blob(buffers, {type: 'application/binary'});\n",
              "      const a = document.createElement('a');\n",
              "      a.href = window.URL.createObjectURL(blob);\n",
              "      a.download = filename;\n",
              "      div.appendChild(a);\n",
              "      a.click();\n",
              "      div.remove();\n",
              "    }\n",
              "  "
            ],
            "text/plain": [
              "<IPython.core.display.Javascript object>"
            ]
          },
          "metadata": {
            "tags": []
          }
        },
        {
          "output_type": "display_data",
          "data": {
            "application/javascript": [
              "download(\"download_eaa8a6b3-d5d7-4a0c-a7e6-53bb7bf101c7\", \"malefemale.csv\", 196)"
            ],
            "text/plain": [
              "<IPython.core.display.Javascript object>"
            ]
          },
          "metadata": {
            "tags": []
          }
        }
      ]
    }
  ]
}