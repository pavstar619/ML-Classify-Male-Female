{
  "nbformat": 4,
  "nbformat_minor": 0,
  "metadata": {
    "anaconda-cloud": {},
    "kernelspec": {
      "display_name": "Python 3",
      "language": "python",
      "name": "python3"
    },
    "language_info": {
      "codemirror_mode": {
        "name": "ipython",
        "version": 3
      },
      "file_extension": ".py",
      "mimetype": "text/x-python",
      "name": "python",
      "nbconvert_exporter": "python",
      "pygments_lexer": "ipython3",
      "version": "3.6.1"
    },
    "colab": {
      "name": "male-female-classifier.ipynb",
      "provenance": [],
      "include_colab_link": true
    }
  },
  "cells": [
    {
      "cell_type": "markdown",
      "metadata": {
        "id": "view-in-github",
        "colab_type": "text"
      },
      "source": [
        "<a href=\"https://colab.research.google.com/github/pavstar619/ML-Classify-Male-Female/blob/master/male_female_classifier.ipynb\" target=\"_parent\"><img src=\"https://colab.research.google.com/assets/colab-badge.svg\" alt=\"Open In Colab\"/></a>"
      ]
    },
    {
      "cell_type": "code",
      "metadata": {
        "id": "q5ZuzTZqZ1rF",
        "colab_type": "code",
        "colab": {
          "base_uri": "https://localhost:8080/",
          "height": 119
        },
        "outputId": "cbc4f822-da60-4a70-ce82-cf4d06a1f4e0"
      },
      "source": [
        "#import enssential dependencies from sklearn\n",
        "from sklearn import ensemble\n",
        "from sklearn import svm\n",
        "import pandas as pd \n",
        "\n",
        "#[height, weight, shoe size]\n",
        "X = [[181,80,44], [177, 70, 43], [160, 60, 38], [154, 54,37], \n",
        "\t [166,65,40], [190,90,47], [175,64,39], [177,70,40], [159, 55,39], [171,75,42], [181,85,43], [220,115,53], [210,110,51], [230,120,55]]\n",
        "\n",
        "#gender 1 is MALE, 0 is FEMALE\n",
        "Y =  [1, 0, 0, 0, 1, 1,\n",
        "\t  1, 0,1, 0, 1, 2, 2, 2]\n",
        "\n",
        "\"\"\" df = pd.read_excel('test.xlsx', 'sheet1')\n",
        "X = df['Features'].values.tolist()\n",
        "Y = df['Gender'].values.tolist()\n",
        "print(X)\n",
        "print(Y) \"\"\"\n",
        "\n",
        "#create variables with classifiers\n",
        "randomForest = ensemble.RandomForestClassifier()\n",
        "svm = svm.SVC(gamma='auto')\n",
        "adaBoost = ensemble.AdaBoostClassifier()\n",
        "\n",
        "#fit them\n",
        "randomForest = randomForest.fit(X,Y)\n",
        "svm = svm.fit(X,Y)\n",
        "adaBoost = adaBoost.fit(X,Y)\n",
        "\n",
        "#Take inputs\n",
        "print('Write inputs cm, kg, size')\n",
        "a, b, c = input().split()\n",
        "\n",
        "#create prediction variables for results\n",
        "predictionForRandomForest = randomForest.predict([[a,b,c]])\n",
        "predictionForSVM = svm.predict([[a,b,c]])\n",
        "predictionForAdaBoost = adaBoost.predict([[a,b,c]])\n",
        "\n",
        "\n",
        "#print all the results\n",
        "print(\"2 for GIANT, 1 for MALE and 0 for FEMALE\")\n",
        "print(\"RandomForest: \", predictionForRandomForest)\n",
        "print(\"SVM: \", predictionForSVM)\n",
        "print(\"AdaBoost: \", predictionForAdaBoost)\n"
      ],
      "execution_count": 1,
      "outputs": [
        {
          "output_type": "stream",
          "text": [
            "Write inputs cm, kg, size\n",
            "150 60 50\n",
            "2 for GIANT, 1 for MALE and 0 for FEMALE\n",
            "RandomForest:  [1]\n",
            "SVM:  [1]\n",
            "AdaBoost:  [0]\n"
          ],
          "name": "stdout"
        }
      ]
    },
    {
      "cell_type": "code",
      "metadata": {
        "id": "CLIGgkb6Z4gi",
        "colab_type": "code",
        "colab": {
          "base_uri": "https://localhost:8080/",
          "height": 68
        },
        "outputId": "71922dc2-2bab-44fa-d26c-b128d3d2c519"
      },
      "source": [
        "from sklearn.metrics import confusion_matrix, accuracy_score, precision_score, f1_score, recall_score\n",
        "y_true = [1, 0, 0, 0, 1, 1, 1, 0, 1, 0, 1, 2, 2, 2] #real values\n",
        "y_pred = [0, 1, 0, 1, 0, 1, 0, 2, 1, 0, 2, 1, 2, 1] #fake values\n",
        "cm = confusion_matrix(y_true,y_pred, labels=[0,1,2])\n",
        "print(cm)"
      ],
      "execution_count": 13,
      "outputs": [
        {
          "output_type": "stream",
          "text": [
            "[[2 2 1]\n",
            " [3 2 1]\n",
            " [0 2 1]]\n"
          ],
          "name": "stdout"
        }
      ]
    },
    {
      "cell_type": "code",
      "metadata": {
        "id": "to1b88lZgt1U",
        "colab_type": "code",
        "colab": {
          "base_uri": "https://localhost:8080/",
          "height": 34
        },
        "outputId": "9325efaf-d899-4300-e9ab-a717d33b88b9"
      },
      "source": [
        "acc = accuracy_score(y_true, y_pred)\n",
        "acc"
      ],
      "execution_count": 14,
      "outputs": [
        {
          "output_type": "execute_result",
          "data": {
            "text/plain": [
              "0.35714285714285715"
            ]
          },
          "metadata": {
            "tags": []
          },
          "execution_count": 14
        }
      ]
    },
    {
      "cell_type": "code",
      "metadata": {
        "id": "T0JyVN9Ag-r3",
        "colab_type": "code",
        "colab": {
          "base_uri": "https://localhost:8080/",
          "height": 180
        },
        "outputId": "61f11247-06ea-4435-c417-2b4665c10069"
      },
      "source": [
        "prec = precision_score(y_true,y_pred, average = 'macro')\n",
        "prec"
      ],
      "execution_count": 15,
      "outputs": [
        {
          "output_type": "error",
          "ename": "NameError",
          "evalue": "ignored",
          "traceback": [
            "\u001b[0;31m---------------------------------------------------------------------------\u001b[0m",
            "\u001b[0;31mNameError\u001b[0m                                 Traceback (most recent call last)",
            "\u001b[0;32m<ipython-input-15-f3e01e3ea6ae>\u001b[0m in \u001b[0;36m<module>\u001b[0;34m()\u001b[0m\n\u001b[0;32m----> 1\u001b[0;31m \u001b[0mprec\u001b[0m \u001b[0;34m=\u001b[0m \u001b[0mprecision_score\u001b[0m\u001b[0;34m(\u001b[0m\u001b[0my_true\u001b[0m\u001b[0;34m,\u001b[0m\u001b[0my_pred\u001b[0m\u001b[0;34m,\u001b[0m \u001b[0maverage\u001b[0m \u001b[0;34m=\u001b[0m \u001b[0;34m'macro'\u001b[0m\u001b[0;34m)\u001b[0m\u001b[0;34m\u001b[0m\u001b[0;34m\u001b[0m\u001b[0m\n\u001b[0m\u001b[1;32m      2\u001b[0m \u001b[0mprec\u001b[0m\u001b[0;34m\u001b[0m\u001b[0;34m\u001b[0m\u001b[0m\n",
            "\u001b[0;31mNameError\u001b[0m: name 'precision_score' is not defined"
          ]
        }
      ]
    }
  ]
}