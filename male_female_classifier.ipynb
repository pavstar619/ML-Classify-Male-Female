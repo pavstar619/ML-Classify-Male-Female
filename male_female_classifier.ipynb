{
  "nbformat": 4,
  "nbformat_minor": 0,
  "metadata": {
    "anaconda-cloud": {},
    "kernelspec": {
      "display_name": "Python 3",
      "language": "python",
      "name": "python3"
    },
    "language_info": {
      "codemirror_mode": {
        "name": "ipython",
        "version": 3
      },
      "file_extension": ".py",
      "mimetype": "text/x-python",
      "name": "python",
      "nbconvert_exporter": "python",
      "pygments_lexer": "ipython3",
      "version": "3.6.1"
    },
    "colab": {
      "name": "male-female-classifier.ipynb",
      "provenance": [],
      "include_colab_link": true
    }
  },
  "cells": [
    {
      "cell_type": "markdown",
      "metadata": {
        "id": "view-in-github",
        "colab_type": "text"
      },
      "source": [
        "<a href=\"https://colab.research.google.com/github/pavstar619/ML-Classify-Male-Female/blob/master/male_female_classifier.ipynb\" target=\"_parent\"><img src=\"https://colab.research.google.com/assets/colab-badge.svg\" alt=\"Open In Colab\"/></a>"
      ]
    },
    {
      "cell_type": "code",
      "metadata": {
        "id": "q5ZuzTZqZ1rF",
        "colab_type": "code",
        "colab": {
          "base_uri": "https://localhost:8080/",
          "height": 306
        },
        "outputId": "b03949fd-7dc6-43c9-cac4-47425a7f2b27"
      },
      "source": [
        "#import enssential dependencies from sklearn\n",
        "from sklearn import ensemble\n",
        "from sklearn import svm\n",
        "import pandas as pd \n",
        "import random\n",
        "import numpy as np\n",
        "\n",
        "#[height, weight, shoe size]\n",
        "X = [[181,80,44], [177, 70, 43], [160, 60, 38], [154, 54,37], \n",
        "\t [166,65,40], [190,90,47], [175,64,39], [177,70,40], [159, 55,39], [171,75,42], [181,85,43], [220,115,53], [210,110,51], [230,120,55]]\n",
        "\n",
        "#gender 1 is MALE, 0 is FEMALE\n",
        "Y =  [1, 0, 0, 0, 1, 1,\n",
        "\t  1, 0,1, 0, 1, 2, 2, 2]\n",
        "\n",
        "\"\"\" df = pd.read_excel('test.xlsx', 'sheet1')\n",
        "X = df['Features'].values.tolist()\n",
        "Y = df['Gender'].values.tolist()\n",
        "print(X)\n",
        "print(Y) \"\"\"\n",
        "\n",
        "#create variables with classifiers\n",
        "randomForest = ensemble.RandomForestClassifier()\n",
        "svm = svm.SVC(gamma='auto')\n",
        "adaBoost = ensemble.AdaBoostClassifier()\n",
        "\n",
        "#fit them\n",
        "randomForest = randomForest.fit(X,Y)\n",
        "svm = svm.fit(X,Y)\n",
        "adaBoost = adaBoost.fit(X,Y)\n",
        "\n",
        "''' #Take inputs\n",
        "print('Write inputs cm, kg, size')\n",
        "a, b, c = input().split()\n",
        "\n",
        "#create prediction variables for results\n",
        "predictionForRandomForest = randomForest.predict([[a,b,c]])\n",
        "predictionForSVM = svm.predict([[a,b,c]])\n",
        "predictionForAdaBoost = adaBoost.predict([[a,b,c]])\n",
        "\n",
        "\n",
        "#print all the results\n",
        "print(\"2 for GIANT, 1 for MALE and 0 for FEMALE\")\n",
        "print(\"RandomForest: \", predictionForRandomForest)\n",
        "print(\"SVM: \", predictionForSVM)\n",
        "print(\"AdaBoost: \", predictionForAdaBoost)\n",
        " '''\n",
        "y_pred_randomForest = []\n",
        "y_pred_svm = []\n",
        "y_pred_adaBoost = []\n",
        "height = []\n",
        "weight = []\n",
        "shoesize = []\n",
        "\n",
        "for x in range(14): \n",
        "\ta, b, c = random.randint(152,240), random.randint(40,120), random.randint(35,60)\n",
        "\tpredictionForRandomForest = randomForest.predict([[a,b,c]])\n",
        "\tpredictionForSVM = svm.predict([[a,b,c]])\n",
        "\tpredictionForAdaBoost = adaBoost.predict([[a,b,c]])\n",
        "\tprint(a,b,c)\n",
        "\t''' height.append(a)\n",
        "\tweight.append(b)\n",
        "\tshoesize.append(c) '''\n",
        " \n",
        "\ty_pred_randomForest.append(int(predictionForRandomForest))\n",
        "\ty_pred_svm.append(int(predictionForSVM))\n",
        "\ty_pred_adaBoost.append(int(predictionForAdaBoost))\n",
        "print(\"RandomForest: \", y_pred_randomForest)\n",
        "print(\"SVM: \", y_pred_svm)\n",
        "print(\"AdaBoost: \", y_pred_adaBoost)\n"
      ],
      "execution_count": 1,
      "outputs": [
        {
          "output_type": "stream",
          "text": [
            "182 99 44\n",
            "239 88 51\n",
            "210 105 42\n",
            "166 56 41\n",
            "216 67 47\n",
            "197 119 47\n",
            "210 72 36\n",
            "193 79 53\n",
            "226 100 56\n",
            "223 109 42\n",
            "215 57 45\n",
            "187 52 36\n",
            "193 50 47\n",
            "197 58 58\n",
            "RandomForest:  [1, 2, 2, 1, 1, 1, 0, 1, 2, 2, 1, 1, 1, 2]\n",
            "SVM:  [1, 1, 1, 1, 1, 1, 1, 1, 1, 1, 1, 1, 1, 1]\n",
            "AdaBoost:  [1, 2, 1, 0, 1, 1, 1, 1, 2, 1, 1, 1, 1, 1]\n"
          ],
          "name": "stdout"
        }
      ]
    },
    {
      "cell_type": "code",
      "metadata": {
        "id": "CLIGgkb6Z4gi",
        "colab_type": "code",
        "colab": {
          "base_uri": "https://localhost:8080/",
          "height": 170
        },
        "outputId": "88ab35f2-a2bf-486c-a4c6-ab71f41b75f8"
      },
      "source": [
        "from sklearn.metrics import confusion_matrix, accuracy_score, precision_score, f1_score, recall_score\n",
        "''' y_true = [1, 0, 0, 0, 1, 1, 1, 0, 1, 0, 1, 2, 2, 2] #real values\n",
        "y_pred = [0, 1, 0, 1, 0, 1, 0, 2, 1, 0, 2, 1, 2, 1] #fake values '''\n",
        "cm_randomForest = confusion_matrix(Y,y_pred_randomForest, labels=[0,1,2])\n",
        "cm_svm = confusion_matrix(Y,y_pred_svm, labels=[0,1,2])\n",
        "cm_adaBoost = confusion_matrix(Y,y_pred_adaBoost, labels=[0,1,2])\n",
        "print(cm_randomForest)\n",
        "print(cm_svm)\n",
        "print(cm_adaBoost)"
      ],
      "execution_count": 2,
      "outputs": [
        {
          "output_type": "stream",
          "text": [
            "[[0 2 3]\n",
            " [1 4 1]\n",
            " [0 2 1]]\n",
            "[[0 5 0]\n",
            " [0 6 0]\n",
            " [0 3 0]]\n",
            "[[1 3 1]\n",
            " [0 5 1]\n",
            " [0 3 0]]\n"
          ],
          "name": "stdout"
        }
      ]
    },
    {
      "cell_type": "code",
      "metadata": {
        "id": "to1b88lZgt1U",
        "colab_type": "code",
        "colab": {
          "base_uri": "https://localhost:8080/",
          "height": 68
        },
        "outputId": "ea0a4436-d40b-45d2-d5f7-9b288dcf4dc0"
      },
      "source": [
        "acc_randomForest = accuracy_score(Y, y_pred_randomForest)\n",
        "acc_svm = accuracy_score(Y, y_pred_svm)\n",
        "acc_adaBoost = accuracy_score(Y, y_pred_adaBoost)\n",
        "print(acc_randomForest)\n",
        "print(acc_svm)\n",
        "print(acc_adaBoost)"
      ],
      "execution_count": 3,
      "outputs": [
        {
          "output_type": "stream",
          "text": [
            "0.35714285714285715\n",
            "0.42857142857142855\n",
            "0.42857142857142855\n"
          ],
          "name": "stdout"
        }
      ]
    },
    {
      "cell_type": "code",
      "metadata": {
        "id": "T0JyVN9Ag-r3",
        "colab_type": "code",
        "colab": {
          "base_uri": "https://localhost:8080/",
          "height": 122
        },
        "outputId": "10bbb183-4e53-43b7-c6ec-d6116952853a"
      },
      "source": [
        "prec_randomForest = precision_score(Y,y_pred_randomForest, average = 'macro')\n",
        "prec_svm = precision_score(Y,y_pred_svm, average = 'macro')\n",
        "prec_adaBoost = precision_score(Y,y_pred_adaBoost, average = 'macro')\n",
        "print(prec_randomForest)\n",
        "print(prec_svm)\n",
        "print(prec_adaBoost)"
      ],
      "execution_count": 4,
      "outputs": [
        {
          "output_type": "stream",
          "text": [
            "0.2333333333333333\n",
            "0.14285714285714285\n",
            "0.48484848484848486\n"
          ],
          "name": "stdout"
        },
        {
          "output_type": "stream",
          "text": [
            "/usr/local/lib/python3.6/dist-packages/sklearn/metrics/_classification.py:1272: UndefinedMetricWarning: Precision is ill-defined and being set to 0.0 in labels with no predicted samples. Use `zero_division` parameter to control this behavior.\n",
            "  _warn_prf(average, modifier, msg_start, len(result))\n"
          ],
          "name": "stderr"
        }
      ]
    },
    {
      "cell_type": "code",
      "metadata": {
        "id": "HQmCidjTh35I",
        "colab_type": "code",
        "colab": {
          "base_uri": "https://localhost:8080/",
          "height": 68
        },
        "outputId": "e18759c0-02fc-48a2-f0d6-10e3745e2ccf"
      },
      "source": [
        "f1_randomForest = f1_score(Y,y_pred_randomForest, average = 'macro')\n",
        "f1_svm = f1_score(Y,y_pred_svm, average = 'macro')\n",
        "f1_adaBoost = f1_score(Y,y_pred_adaBoost, average = 'macro')\n",
        "print(f1_randomForest)\n",
        "print(f1_svm)\n",
        "print(f1_adaBoost)"
      ],
      "execution_count": 5,
      "outputs": [
        {
          "output_type": "stream",
          "text": [
            "0.27380952380952384\n",
            "0.19999999999999998\n",
            "0.30718954248366015\n"
          ],
          "name": "stdout"
        }
      ]
    },
    {
      "cell_type": "code",
      "metadata": {
        "id": "bPE9o_t4iIhj",
        "colab_type": "code",
        "colab": {
          "base_uri": "https://localhost:8080/",
          "height": 68
        },
        "outputId": "19314aa4-8a0a-433d-ac82-27fa9544da88"
      },
      "source": [
        "recall_randomForest = recall_score(Y,y_pred_randomForest, average = 'macro')\n",
        "recall_svm = recall_score(Y,y_pred_svm, average = 'macro')\n",
        "recall_adaBoost = recall_score(Y,y_pred_adaBoost, average = 'macro')\n",
        "print(recall_randomForest)\n",
        "print(recall_svm)\n",
        "print(recall_adaBoost)\n"
      ],
      "execution_count": 6,
      "outputs": [
        {
          "output_type": "stream",
          "text": [
            "0.3333333333333333\n",
            "0.3333333333333333\n",
            "0.3444444444444445\n"
          ],
          "name": "stdout"
        }
      ]
    },
    {
      "cell_type": "code",
      "metadata": {
        "id": "0ydKUoCM8Sv8",
        "colab_type": "code",
        "colab": {
          "base_uri": "https://localhost:8080/",
          "height": 35
        },
        "outputId": "e50e65fd-c70d-48e6-ab75-db4f24021a5a"
      },
      "source": [
        "# Make a dataset\n",
        "''' data = {'Height' : height, 'Weight' : weight, 'Shoesize' : shoesize}\n",
        "df = pd.DataFrame(data , columns= ['Height', 'Weight', 'Shoesize'])\n",
        "df '''"
      ],
      "execution_count": 7,
      "outputs": [
        {
          "output_type": "execute_result",
          "data": {
            "application/vnd.google.colaboratory.intrinsic+json": {
              "type": "string"
            },
            "text/plain": [
              "\" data = {'Height' : height, 'Weight' : weight, 'Shoesize' : shoesize}\\ndf = pd.DataFrame(data , columns= ['Height', 'Weight', 'Shoesize'])\\ndf \""
            ]
          },
          "metadata": {
            "tags": []
          },
          "execution_count": 7
        }
      ]
    },
    {
      "cell_type": "code",
      "metadata": {
        "id": "1vGEFG1RAWfs",
        "colab_type": "code",
        "colab": {
          "base_uri": "https://localhost:8080/",
          "height": 35
        },
        "outputId": "295bc30e-ca32-4805-98de-ec426912b256"
      },
      "source": [
        "#FOR DOWNLOADING CSV\n",
        "''' from google.colab import files\n",
        "df.to_csv('malefemale.csv') \n",
        "files.download('malefemale.csv') '''"
      ],
      "execution_count": 8,
      "outputs": [
        {
          "output_type": "execute_result",
          "data": {
            "application/vnd.google.colaboratory.intrinsic+json": {
              "type": "string"
            },
            "text/plain": [
              "\" from google.colab import files\\ndf.to_csv('malefemale.csv') \\nfiles.download('malefemale.csv') \""
            ]
          },
          "metadata": {
            "tags": []
          },
          "execution_count": 8
        }
      ]
    },
    {
      "cell_type": "code",
      "metadata": {
        "id": "g2-vDMqTNv-X",
        "colab_type": "code",
        "colab": {
          "base_uri": "https://localhost:8080/",
          "height": 85
        },
        "outputId": "5ca50674-6b5b-4fe4-aedc-c4c27b82fa17"
      },
      "source": [
        "results_dict = {'Classifier' : ['RandomForest', 'SVM', 'AdaBoost'],\n",
        "                'Accuracy':[acc_randomForest, acc_svm, acc_adaBoost],\n",
        "                'Precision':[prec_randomForest, prec_svm, prec_adaBoost],\n",
        "                'F1 Score':[f1_randomForest, f1_svm, f1_adaBoost]}\n",
        "results = pd.DataFrame(results_dict)\n",
        "print(results)"
      ],
      "execution_count": 9,
      "outputs": [
        {
          "output_type": "stream",
          "text": [
            "     Classifier  Accuracy  Precision  F1 Score\n",
            "0  RandomForest  0.357143   0.233333   0.27381\n",
            "1           SVM  0.428571   0.142857   0.20000\n",
            "2      AdaBoost  0.428571   0.484848   0.30719\n"
          ],
          "name": "stdout"
        }
      ]
    }
  ]
}