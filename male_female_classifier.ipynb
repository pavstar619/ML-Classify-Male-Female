{
  "nbformat": 4,
  "nbformat_minor": 0,
  "metadata": {
    "anaconda-cloud": {},
    "kernelspec": {
      "display_name": "Python 3",
      "language": "python",
      "name": "python3"
    },
    "language_info": {
      "codemirror_mode": {
        "name": "ipython",
        "version": 3
      },
      "file_extension": ".py",
      "mimetype": "text/x-python",
      "name": "python",
      "nbconvert_exporter": "python",
      "pygments_lexer": "ipython3",
      "version": "3.6.1"
    },
    "colab": {
      "name": "male-female-classifier.ipynb",
      "provenance": [],
      "include_colab_link": true
    }
  },
  "cells": [
    {
      "cell_type": "markdown",
      "metadata": {
        "id": "view-in-github",
        "colab_type": "text"
      },
      "source": [
        "<a href=\"https://colab.research.google.com/github/pavstar619/ML-Classify-Male-Female/blob/master/male_female_classifier.ipynb\" target=\"_parent\"><img src=\"https://colab.research.google.com/assets/colab-badge.svg\" alt=\"Open In Colab\"/></a>"
      ]
    },
    {
      "cell_type": "code",
      "metadata": {
        "id": "q5ZuzTZqZ1rF",
        "colab_type": "code",
        "colab": {}
      },
      "source": [
        "#import enssential dependencies from sklearn\n",
        "from sklearn import ensemble\n",
        "from sklearn import svm\n",
        "import pandas as pd \n",
        "\n",
        "#[height, weight, shoe size]\n",
        "X = [[181,80,44], [177, 70, 43], [160, 60, 38], [154, 54,37], \n",
        "\t [166,65,40], [190,90,47], [175,64,39], [177,70,40], [159, 55,39], [171,75,42], [181,85,43], [220,115,53], [210,110,51], [230,120,55]]\n",
        "\n",
        "#gender 1 is MALE, 0 is FEMALE\n",
        "Y =  [1, 0, 0, 0, 1, 1,\n",
        "\t  1, 0,1, 0, 1, 2, 2, 2]\n",
        "\n",
        "\"\"\" df = pd.read_excel('test.xlsx', 'sheet1')\n",
        "X = df['Features'].values.tolist()\n",
        "Y = df['Gender'].values.tolist()\n",
        "print(X)\n",
        "print(Y) \"\"\"\n",
        "\n",
        "#create variables with classifiers\n",
        "randomForest = ensemble.RandomForestClassifier()\n",
        "svm = svm.SVC(gamma='auto')\n",
        "adaBoost = ensemble.AdaBoostClassifier()\n",
        "\n",
        "#fit them\n",
        "randomForest = randomForest.fit(X,Y)\n",
        "svm = svm.fit(X,Y)\n",
        "adaBoost = adaBoost.fit(X,Y)\n",
        "\n",
        "#Take inputs\n",
        "print('Write inputs cm, kg, size')\n",
        "a, b, c = input().split()\n",
        "\n",
        "#create prediction variables for results\n",
        "predictionForRandomForest = randomForest.predict([[a,b,c]])\n",
        "predictionForSVM = svm.predict([[a,b,c]])\n",
        "predictionForAdaBoost = adaBoost.predict([[a,b,c]])\n",
        "\n",
        "\n",
        "#print all the results\n",
        "print(\"2 for GIANT, 1 for MALE and 0 for FEMALE\")\n",
        "print(\"RandomForest: \", predictionForRandomForest)\n",
        "print(\"SVM: \", predictionForSVM)\n",
        "print(\"AdaBoost: \", predictionForAdaBoost)\n"
      ],
      "execution_count": null,
      "outputs": []
    },
    {
      "cell_type": "code",
      "metadata": {
        "id": "CLIGgkb6Z4gi",
        "colab_type": "code",
        "colab": {}
      },
      "source": [
        ""
      ],
      "execution_count": null,
      "outputs": []
    }
  ]
}